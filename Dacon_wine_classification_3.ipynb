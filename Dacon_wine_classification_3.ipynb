{
  "nbformat": 4,
  "nbformat_minor": 0,
  "metadata": {
    "colab": {
      "name": "Dacon_wine_classification_3.ipynb",
      "provenance": [],
      "collapsed_sections": [],
      "toc_visible": true,
      "mount_file_id": "1NAfDoz6CkBtqtYfWy5DS8oIo0WDv6jO5",
      "authorship_tag": "ABX9TyM00F73r9b665ipDGMzrAYC",
      "include_colab_link": true
    },
    "kernelspec": {
      "name": "python3",
      "display_name": "Python 3"
    },
    "language_info": {
      "name": "python"
    }
  },
  "cells": [
    {
      "cell_type": "markdown",
      "metadata": {
        "id": "view-in-github",
        "colab_type": "text"
      },
      "source": [
        "<a href=\"https://colab.research.google.com/github/HwangHanJae/Dacon_wine_classfication/blob/main/Dacon_wine_classification_3.ipynb\" target=\"_parent\"><img src=\"https://colab.research.google.com/assets/colab-badge.svg\" alt=\"Open In Colab\"/></a>"
      ]
    },
    {
      "cell_type": "markdown",
      "metadata": {
        "id": "xeDP4-iVnax5"
      },
      "source": [
        "# 데이콘 [화학] 와인 품질 분류 스터디\n",
        "  - [링크](https://dacon.io/competitions/open/235610/overview/description)"
      ]
    },
    {
      "cell_type": "markdown",
      "metadata": {
        "id": "WVHi9gKMnSMQ"
      },
      "source": [
        "# 0.소개"
      ]
    },
    {
      "cell_type": "markdown",
      "metadata": {
        "id": "eAxlleFwnqTW"
      },
      "source": [
        "# 1.라이브러리 로드"
      ]
    },
    {
      "cell_type": "code",
      "metadata": {
        "id": "eS9JwqyGmgcP"
      },
      "source": [
        "import pandas as pd\n",
        "import numpy as np\n",
        "import matplotlib.pyplot as plt\n",
        "import seaborn as sns\n",
        "from IPython.display import set_matplotlib_formats\n",
        "plt.style.use('ggplot')\n",
        "set_matplotlib_formats('svg')"
      ],
      "execution_count": 5,
      "outputs": []
    },
    {
      "cell_type": "code",
      "metadata": {
        "id": "WsecT-VDnxo2"
      },
      "source": [
        "#데이터 셋 로드\n",
        "train = pd.read_csv(\"/content/drive/MyDrive/Colab Notebooks/DataScience/Data/wine/train.csv\")\n",
        "test = pd.read_csv(\"/content/drive/MyDrive/Colab Notebooks/DataScience/Data/wine/test.csv\")"
      ],
      "execution_count": 20,
      "outputs": []
    },
    {
      "cell_type": "markdown",
      "metadata": {
        "id": "5UgoPYsXGovV"
      },
      "source": [
        "# 2.머신러닝"
      ]
    },
    {
      "cell_type": "code",
      "metadata": {
        "id": "BQK3uWG5x5y_"
      },
      "source": [
        "from sklearn.linear_model import LogisticRegression\n",
        "from sklearn.neighbors import KNeighborsClassifier\n",
        "from sklearn.tree import DecisionTreeClassifier\n",
        "from sklearn.ensemble import RandomForestClassifier, GradientBoostingClassifier, AdaBoostClassifier\n",
        "\n",
        "from sklearn.model_selection import GridSearchCV\n",
        "from sklearn.model_selection import train_test_split"
      ],
      "execution_count": 21,
      "outputs": []
    },
    {
      "cell_type": "markdown",
      "metadata": {
        "id": "LkNel7iOHOrj"
      },
      "source": [
        "## 2.1 데이터 정제"
      ]
    },
    {
      "cell_type": "code",
      "metadata": {
        "colab": {
          "base_uri": "https://localhost:8080/"
        },
        "id": "gGwhG8z5HqfP",
        "outputId": "b90a1f75-b931-4fc9-f955-c00f60f9c5b7"
      },
      "source": [
        "#타겟 데이터 분류하기\n",
        "y_train = train['quality']\n",
        "y_train.shape"
      ],
      "execution_count": 22,
      "outputs": [
        {
          "output_type": "execute_result",
          "data": {
            "text/plain": [
              "(5497,)"
            ]
          },
          "metadata": {
            "tags": []
          },
          "execution_count": 22
        }
      ]
    },
    {
      "cell_type": "code",
      "metadata": {
        "colab": {
          "base_uri": "https://localhost:8080/",
          "height": 143
        },
        "id": "qKqWuzXWHLp1",
        "outputId": "6cc31508-5b71-4403-a827-fab7b8b56fc5"
      },
      "source": [
        "#사용하지 않는 데이터 drop하기\n",
        "train = train.drop(['index', 'quality'], axis=1).copy()\n",
        "train.head(3)"
      ],
      "execution_count": 23,
      "outputs": [
        {
          "output_type": "execute_result",
          "data": {
            "text/html": [
              "<div>\n",
              "<style scoped>\n",
              "    .dataframe tbody tr th:only-of-type {\n",
              "        vertical-align: middle;\n",
              "    }\n",
              "\n",
              "    .dataframe tbody tr th {\n",
              "        vertical-align: top;\n",
              "    }\n",
              "\n",
              "    .dataframe thead th {\n",
              "        text-align: right;\n",
              "    }\n",
              "</style>\n",
              "<table border=\"1\" class=\"dataframe\">\n",
              "  <thead>\n",
              "    <tr style=\"text-align: right;\">\n",
              "      <th></th>\n",
              "      <th>fixed acidity</th>\n",
              "      <th>volatile acidity</th>\n",
              "      <th>citric acid</th>\n",
              "      <th>residual sugar</th>\n",
              "      <th>chlorides</th>\n",
              "      <th>free sulfur dioxide</th>\n",
              "      <th>total sulfur dioxide</th>\n",
              "      <th>density</th>\n",
              "      <th>pH</th>\n",
              "      <th>sulphates</th>\n",
              "      <th>alcohol</th>\n",
              "      <th>type</th>\n",
              "    </tr>\n",
              "  </thead>\n",
              "  <tbody>\n",
              "    <tr>\n",
              "      <th>0</th>\n",
              "      <td>5.6</td>\n",
              "      <td>0.695</td>\n",
              "      <td>0.06</td>\n",
              "      <td>6.8</td>\n",
              "      <td>0.042</td>\n",
              "      <td>9.0</td>\n",
              "      <td>84.0</td>\n",
              "      <td>0.99432</td>\n",
              "      <td>3.44</td>\n",
              "      <td>0.44</td>\n",
              "      <td>10.2</td>\n",
              "      <td>white</td>\n",
              "    </tr>\n",
              "    <tr>\n",
              "      <th>1</th>\n",
              "      <td>8.8</td>\n",
              "      <td>0.610</td>\n",
              "      <td>0.14</td>\n",
              "      <td>2.4</td>\n",
              "      <td>0.067</td>\n",
              "      <td>10.0</td>\n",
              "      <td>42.0</td>\n",
              "      <td>0.99690</td>\n",
              "      <td>3.19</td>\n",
              "      <td>0.59</td>\n",
              "      <td>9.5</td>\n",
              "      <td>red</td>\n",
              "    </tr>\n",
              "    <tr>\n",
              "      <th>2</th>\n",
              "      <td>7.9</td>\n",
              "      <td>0.210</td>\n",
              "      <td>0.39</td>\n",
              "      <td>2.0</td>\n",
              "      <td>0.057</td>\n",
              "      <td>21.0</td>\n",
              "      <td>138.0</td>\n",
              "      <td>0.99176</td>\n",
              "      <td>3.05</td>\n",
              "      <td>0.52</td>\n",
              "      <td>10.9</td>\n",
              "      <td>white</td>\n",
              "    </tr>\n",
              "  </tbody>\n",
              "</table>\n",
              "</div>"
            ],
            "text/plain": [
              "   fixed acidity  volatile acidity  citric acid  ...  sulphates  alcohol   type\n",
              "0            5.6             0.695         0.06  ...       0.44     10.2  white\n",
              "1            8.8             0.610         0.14  ...       0.59      9.5    red\n",
              "2            7.9             0.210         0.39  ...       0.52     10.9  white\n",
              "\n",
              "[3 rows x 12 columns]"
            ]
          },
          "metadata": {
            "tags": []
          },
          "execution_count": 23
        }
      ]
    },
    {
      "cell_type": "code",
      "metadata": {
        "id": "M50-j-asIXaw"
      },
      "source": [
        "#사용하지 않는 데이터 drop 하기\n",
        "test_index = test['index']\n",
        "\n",
        "test = test.drop(['index'],axis=1).copy()"
      ],
      "execution_count": 24,
      "outputs": []
    },
    {
      "cell_type": "code",
      "metadata": {
        "id": "QvMhyNgxH2ho",
        "colab": {
          "base_uri": "https://localhost:8080/"
        },
        "outputId": "e682a554-17ba-431b-c092-89d4e3d92392"
      },
      "source": [
        "#type 특성 One-Hot-Encoding하기\n",
        "train = pd.get_dummies(data=train,columns= [\"type\"], prefix='type',).rename(columns={\"type_0\" : \"type_red\", \"type_1\" : \"type_white\"})\n",
        "test = pd.get_dummies(data=test,columns= [\"type\"], prefix='type',).rename(columns={\"type_0\" : \"type_red\", \"type_1\" : \"type_white\"})\n",
        "\n",
        "train.shape, test.shape"
      ],
      "execution_count": 25,
      "outputs": [
        {
          "output_type": "execute_result",
          "data": {
            "text/plain": [
              "((5497, 13), (1000, 13))"
            ]
          },
          "metadata": {
            "tags": []
          },
          "execution_count": 25
        }
      ]
    },
    {
      "cell_type": "markdown",
      "metadata": {
        "id": "s9OEqLhqgFdA"
      },
      "source": [
        "## 2.2 데이터 셋 나누기"
      ]
    },
    {
      "cell_type": "code",
      "metadata": {
        "colab": {
          "base_uri": "https://localhost:8080/"
        },
        "id": "9Ludi7fLc4ni",
        "outputId": "d37d4ce8-2af3-4274-d628-4d0ae7c62f01"
      },
      "source": [
        "X_train, X_val, y_train, y_val = train_test_split(train, y_train, test_size=0.2, random_state=42)\n",
        "\n",
        "X_train.shape, X_val.shape, y_train.shape, y_val.shape"
      ],
      "execution_count": 12,
      "outputs": [
        {
          "output_type": "execute_result",
          "data": {
            "text/plain": [
              "((4397, 13), (1100, 13), (4397,), (1100,))"
            ]
          },
          "metadata": {
            "tags": []
          },
          "execution_count": 12
        }
      ]
    },
    {
      "cell_type": "markdown",
      "metadata": {
        "id": "od0AxnXCgikE"
      },
      "source": [
        "##2.3 훈련 및 평가"
      ]
    },
    {
      "cell_type": "code",
      "metadata": {
        "id": "mogozdz2HZ_5",
        "colab": {
          "base_uri": "https://localhost:8080/"
        },
        "outputId": "7d5e76e8-837c-47b4-80ed-c989ac124489"
      },
      "source": [
        "#LogisticRegression\n",
        "lr = LogisticRegression(n_jobs=-1, random_state=42)\n",
        "lr.fit(X_train, y_train)\n",
        "lr_score = lr.score(X_val, y_val)\n",
        "\n",
        "#KNeighborsClassifier\n",
        "knn = KNeighborsClassifier(n_jobs=-1)\n",
        "knn.fit(X_train, y_train)\n",
        "knn_score = knn.score(X_val, y_val)\n",
        "\n",
        "#DecisionTreeClassifier\n",
        "tree = DecisionTreeClassifier(random_state=42)\n",
        "tree.fit(X_train, y_train)\n",
        "tree_score = tree.score(X_val, y_val)\n",
        "\n",
        "#RandomForestClassifier\n",
        "rf = RandomForestClassifier(random_state=42, n_jobs=-1)\n",
        "rf.fit(X_train, y_train)\n",
        "rf_score = rf.score(X_val, y_val)\n",
        "\n",
        "#GradientBoostingClassifier\n",
        "gb = GradientBoostingClassifier(random_state=42)\n",
        "gb.fit(X_train, y_train)\n",
        "gb_score = gb.score(X_val, y_val)\n",
        "\n",
        "print(\"lr : {:.3f}\".format(lr_score))\n",
        "print(\"knn : {:.3f}\".format(knn_score))\n",
        "print(\"tree : {:.3f}\".format(tree_score))\n",
        "print(\"rf : {:.3f}\".format(rf_score))\n",
        "print(\"gb : {:.3f}\".format(gb_score))"
      ],
      "execution_count": 13,
      "outputs": [
        {
          "output_type": "stream",
          "text": [
            "lr : 0.466\n",
            "knn : 0.474\n",
            "tree : 0.599\n",
            "rf : 0.682\n",
            "gb : 0.565\n"
          ],
          "name": "stdout"
        }
      ]
    },
    {
      "cell_type": "code",
      "metadata": {
        "id": "dtCsgq8H3ymq"
      },
      "source": [
        "#LogisticRegression\n",
        "lr = LogisticRegression(n_jobs=-1, random_state=42)\n",
        "lr.fit(train, y_train)\n",
        "lr_score = lr.score(X_val, y_val)\n",
        "\n",
        "#KNeighborsClassifier\n",
        "knn = KNeighborsClassifier(n_jobs=-1)\n",
        "knn.fit(train, y_train)\n",
        "knn_score = knn.score(X_val, y_val)\n",
        "\n",
        "#DecisionTreeClassifier\n",
        "tree = DecisionTreeClassifier(random_state=42)\n",
        "tree.fit(train, y_train)\n",
        "tree_score = tree.score(X_val, y_val)\n",
        "\n",
        "#RandomForestClassifier\n",
        "rf = RandomForestClassifier(random_state=42, n_jobs=-1)\n",
        "rf.fit(train, y_train)\n",
        "rf_score = rf.score(X_val, y_val)\n",
        "\n",
        "#GradientBoostingClassifier\n",
        "gb = GradientBoostingClassifier(random_state=42)\n",
        "gb.fit(train, y_train)\n",
        "gb_score = gb.score(X_val, y_val)\n"
      ],
      "execution_count": 27,
      "outputs": []
    },
    {
      "cell_type": "code",
      "metadata": {
        "id": "hWfyqQpri9M-"
      },
      "source": [
        "y_pred = rf.predict(test)"
      ],
      "execution_count": 28,
      "outputs": []
    },
    {
      "cell_type": "markdown",
      "metadata": {
        "id": "QuFR-xNcjS47"
      },
      "source": [
        "# 5.제출"
      ]
    },
    {
      "cell_type": "code",
      "metadata": {
        "colab": {
          "base_uri": "https://localhost:8080/"
        },
        "id": "WBW7V-1bjPc6",
        "outputId": "8df7ad81-1a9b-4d6a-b068-811b451f1fa2"
      },
      "source": [
        "sample_submit = pd.read_csv(\"/content/drive/MyDrive/Colab Notebooks/DataScience/Data/wine/sample_submission.csv\")\n",
        "\n",
        "sample_submit['quality'] = y_pred\n",
        "\n",
        "(sample_submit['quality'] == y_pred).all()"
      ],
      "execution_count": 29,
      "outputs": [
        {
          "output_type": "execute_result",
          "data": {
            "text/plain": [
              "True"
            ]
          },
          "metadata": {
            "tags": []
          },
          "execution_count": 29
        }
      ]
    },
    {
      "cell_type": "code",
      "metadata": {
        "id": "Igf9_J1BcsOD"
      },
      "source": [
        "sample_submit.to_csv(\"/content/drive/MyDrive/Colab Notebooks/DataScience/My CSV/Dacon/wine/basic_sumbit_3.csv\", index=False)"
      ],
      "execution_count": 30,
      "outputs": []
    },
    {
      "cell_type": "code",
      "metadata": {
        "colab": {
          "base_uri": "https://localhost:8080/"
        },
        "id": "T9fs98ysj08C",
        "outputId": "8d05befa-4e1e-46d4-f59f-440067b6f56d"
      },
      "source": [
        "submit = pd.read_csv(\"/content/drive/MyDrive/Colab Notebooks/DataScience/My CSV/Dacon/wine/basic_sumbit_3.csv\")\n",
        "(submit == sample_submit).all()"
      ],
      "execution_count": 31,
      "outputs": [
        {
          "output_type": "execute_result",
          "data": {
            "text/plain": [
              "index      True\n",
              "quality    True\n",
              "dtype: bool"
            ]
          },
          "metadata": {
            "tags": []
          },
          "execution_count": 31
        }
      ]
    },
    {
      "cell_type": "code",
      "metadata": {
        "colab": {
          "base_uri": "https://localhost:8080/",
          "height": 206
        },
        "id": "zqe7GCJXknNC",
        "outputId": "2123a55f-9cbd-43ed-ac63-f85c9679620f"
      },
      "source": [
        "submit.head()"
      ],
      "execution_count": 32,
      "outputs": [
        {
          "output_type": "execute_result",
          "data": {
            "text/html": [
              "<div>\n",
              "<style scoped>\n",
              "    .dataframe tbody tr th:only-of-type {\n",
              "        vertical-align: middle;\n",
              "    }\n",
              "\n",
              "    .dataframe tbody tr th {\n",
              "        vertical-align: top;\n",
              "    }\n",
              "\n",
              "    .dataframe thead th {\n",
              "        text-align: right;\n",
              "    }\n",
              "</style>\n",
              "<table border=\"1\" class=\"dataframe\">\n",
              "  <thead>\n",
              "    <tr style=\"text-align: right;\">\n",
              "      <th></th>\n",
              "      <th>index</th>\n",
              "      <th>quality</th>\n",
              "    </tr>\n",
              "  </thead>\n",
              "  <tbody>\n",
              "    <tr>\n",
              "      <th>0</th>\n",
              "      <td>0</td>\n",
              "      <td>6</td>\n",
              "    </tr>\n",
              "    <tr>\n",
              "      <th>1</th>\n",
              "      <td>1</td>\n",
              "      <td>6</td>\n",
              "    </tr>\n",
              "    <tr>\n",
              "      <th>2</th>\n",
              "      <td>2</td>\n",
              "      <td>6</td>\n",
              "    </tr>\n",
              "    <tr>\n",
              "      <th>3</th>\n",
              "      <td>3</td>\n",
              "      <td>5</td>\n",
              "    </tr>\n",
              "    <tr>\n",
              "      <th>4</th>\n",
              "      <td>4</td>\n",
              "      <td>6</td>\n",
              "    </tr>\n",
              "  </tbody>\n",
              "</table>\n",
              "</div>"
            ],
            "text/plain": [
              "   index  quality\n",
              "0      0        6\n",
              "1      1        6\n",
              "2      2        6\n",
              "3      3        5\n",
              "4      4        6"
            ]
          },
          "metadata": {
            "tags": []
          },
          "execution_count": 32
        }
      ]
    },
    {
      "cell_type": "code",
      "metadata": {
        "id": "RNK6zgEfkqAe"
      },
      "source": [
        ""
      ],
      "execution_count": null,
      "outputs": []
    }
  ]
}